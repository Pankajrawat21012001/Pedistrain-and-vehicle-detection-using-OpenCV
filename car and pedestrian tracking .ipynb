{
 "cells": [
  {
   "cell_type": "code",
   "execution_count": 27,
   "metadata": {},
   "outputs": [
    {
     "name": "stdout",
     "output_type": "stream",
     "text": [
      "[[  84  653   50   50]\n",
      " [ 528  371  526  526]\n",
      " [ 260  624  142  142]\n",
      " [1028  435  266  266]]\n",
      "Code Compeleted\n"
     ]
    }
   ],
   "source": [
    "import cv2\n",
    "\n",
    "img_file=\"car image.jpg\"\n",
    "\n",
    "classifier_file=\"cars.xml\"\n",
    "\n",
    "img=cv2.imread(img_file)\n",
    "\n",
    "gray_img=cv2.cvtColor(img,cv2.COLOR_BGR2GRAY )\n",
    "\n",
    "car_algo=cv2.CascadeClassifier(classifier_file)\n",
    "\n",
    "cars=car_algo.detectMultiScale(gray_img)\n",
    "\n",
    "print(cars)\n",
    "\n",
    "for (a,b,c,d) in cars:\n",
    "    cv2.rectangle(img,(a,b),(a+c,b+d),(0,256,0),5)\n",
    "\n",
    "cv2.imshow(\"Car image detector\",img)\n",
    "cv2.waitKey()\n",
    "print(\"Code Compeleted\")"
   ]
  },
  {
   "cell_type": "code",
   "execution_count": 28,
   "metadata": {},
   "outputs": [
    {
     "name": "stdout",
     "output_type": "stream",
     "text": [
      "[[168  35  47  47]\n",
      " [185 352  71  71]\n",
      " [133 233  49  49]\n",
      " [105 316  75  75]\n",
      " [266 356  86  86]\n",
      " [159  55  45  45]\n",
      " [ 62 374 109 109]\n",
      " [175 388 111 111]\n",
      " [187 469 138 138]\n",
      " [240 274  26  26]\n",
      " [430 548  32  32]\n",
      " [172 258  50  50]\n",
      " [334 330  68  68]\n",
      " [332 275  54  54]]\n",
      "Code Compeleted\n"
     ]
    }
   ],
   "source": [
    "import cv2\n",
    "\n",
    "img_file=\"car2.jpg\"\n",
    "\n",
    "classifier_file=\"cars.xml\"\n",
    "\n",
    "img=cv2.imread(img_file)\n",
    "\n",
    "gray_img=cv2.cvtColor(img,cv2.COLOR_BGR2GRAY )\n",
    "\n",
    "car_algo=cv2.CascadeClassifier(classifier_file)\n",
    "\n",
    "cars=car_algo.detectMultiScale(gray_img)\n",
    "\n",
    "print(cars)\n",
    "\n",
    "for (a,b,c,d) in cars:\n",
    "    cv2.rectangle(img,(a,b),(a+c,b+d),(0,256,0),5)\n",
    "\n",
    "cv2.imshow(\"Car image detector\",img)\n",
    "cv2.waitKey()\n",
    "print(\"Code Compeleted\")"
   ]
  },
  {
   "cell_type": "code",
   "execution_count": 1,
   "metadata": {},
   "outputs": [
    {
     "name": "stdout",
     "output_type": "stream",
     "text": [
      "Code Compeleted\n"
     ]
    }
   ],
   "source": [
    "import cv2\n",
    "\n",
    "video_file=cv2.VideoCapture(\"pedestrain.mp4\")\n",
    "\n",
    "classifier_file=\"cars.xml\"\n",
    "\n",
    "car_algo=cv2.CascadeClassifier(classifier_file)\n",
    "while True:\n",
    "    successful_read,frame=video_file.read()\n",
    "    \n",
    "    if successful_read:\n",
    "        gray_img=cv2.cvtColor(frame,cv2.COLOR_BGR2GRAY )\n",
    "    else:\n",
    "        break\n",
    "        \n",
    "        \n",
    "    cars=car_algo.detectMultiScale(gray_img)\n",
    "\n",
    "    for (a,b,c,d) in cars:\n",
    "        cv2.rectangle(gray_img,(a,b),(a+c,b+d),(0,256,0),5)\n",
    "\n",
    "    cv2.imshow(\"Car image detector\",gray_img)\n",
    "    key=cv2.waitKey(1)\n",
    "    \n",
    "    if key==113 or key==81:\n",
    "        break\n",
    "print(\"Code Compeleted\")"
   ]
  },
  {
   "cell_type": "code",
   "execution_count": 1,
   "metadata": {},
   "outputs": [
    {
     "name": "stdout",
     "output_type": "stream",
     "text": [
      "Code Compeleted\n"
     ]
    }
   ],
   "source": [
    "import cv2\n",
    "\n",
    "video_file=cv2.VideoCapture(\"car.mp4\")\n",
    "\n",
    "classifier_file=\"cars.xml\"\n",
    "\n",
    "car_algo=cv2.CascadeClassifier(classifier_file)\n",
    "while True:\n",
    "    successful_read,frame=video_file.read()\n",
    "    \n",
    "    if successful_read:\n",
    "        gray_img=cv2.cvtColor(frame,cv2.COLOR_BGR2GRAY )\n",
    "    else:\n",
    "        break\n",
    "        \n",
    "        \n",
    "    cars=car_algo.detectMultiScale(gray_img)\n",
    "\n",
    "    for (a,b,c,d) in cars:\n",
    "        cv2.rectangle(frame,(a,b),(a+c,b+d),(0,256,0),5)\n",
    "\n",
    "    cv2.imshow(\"Car image detector\",frame)\n",
    "    key=cv2.waitKey(10)\n",
    "    \n",
    "    if key==113 or key==81:\n",
    "        break\n",
    "print(\"Code Compeleted\")"
   ]
  },
  {
   "cell_type": "code",
   "execution_count": null,
   "metadata": {},
   "outputs": [],
   "source": []
  },
  {
   "cell_type": "code",
   "execution_count": null,
   "metadata": {},
   "outputs": [],
   "source": []
  },
  {
   "cell_type": "code",
   "execution_count": null,
   "metadata": {},
   "outputs": [],
   "source": []
  },
  {
   "cell_type": "code",
   "execution_count": 1,
   "metadata": {},
   "outputs": [],
   "source": [
    "#PEDESTRAINS"
   ]
  },
  {
   "cell_type": "code",
   "execution_count": 1,
   "metadata": {},
   "outputs": [
    {
     "name": "stdout",
     "output_type": "stream",
     "text": [
      "Code Compeleted\n"
     ]
    }
   ],
   "source": [
    "import cv2\n",
    "\n",
    "video_file=cv2.VideoCapture(\"pedestrain.mp4\")\n",
    "\n",
    "car_classifier_file=\"cars.xml\"\n",
    "pedestrain_classifier_file='haarcascade_fullbody.xml'\n",
    "\n",
    "car_algo=cv2.CascadeClassifier(car_classifier_file)\n",
    "pedestrain_algo=cv2.CascadeClassifier(pedestrain_classifier_file)\n",
    "while True:\n",
    "    successful_read,frame=video_file.read()\n",
    "    \n",
    "    if successful_read:\n",
    "        gray_img=cv2.cvtColor(frame,cv2.COLOR_BGR2GRAY )\n",
    "    else:\n",
    "        break\n",
    "        \n",
    "    cars=car_algo.detectMultiScale(gray_img)\n",
    "    pedestrains=pedestrain_algo.detectMultiScale(gray_img)\n",
    "\n",
    "    for (a,b,c,d) in cars:\n",
    "        cv2.rectangle(frame,(a,b),(a+c,b+d),(0,256,0),5)\n",
    "    for (a,b,c,d) in pedestrains:\n",
    "        cv2.rectangle(frame,(a,b),(a+c,b+d),(0,0,256),5)\n",
    "\n",
    "    cv2.imshow(\"Car and pedestrain image detector\",frame)\n",
    "    key=cv2.waitKey(1)\n",
    "    \n",
    "    if key==113 or key==81:\n",
    "        break\n",
    "\n",
    "video_file.release()\n",
    "print(\"Code Compeleted\")"
   ]
  },
  {
   "cell_type": "code",
   "execution_count": null,
   "metadata": {},
   "outputs": [],
   "source": []
  },
  {
   "cell_type": "code",
   "execution_count": null,
   "metadata": {},
   "outputs": [],
   "source": []
  },
  {
   "cell_type": "code",
   "execution_count": 1,
   "metadata": {},
   "outputs": [
    {
     "name": "stdout",
     "output_type": "stream",
     "text": [
      "Code Compeleted\n"
     ]
    }
   ],
   "source": [
    "import cv2\n",
    "\n",
    "video_file=cv2.VideoCapture(\"motor video.mp4\")\n",
    "\n",
    "car_classifier_file=\"cars.xml\"\n",
    "pedestrain_classifier_file='haarcascade_fullbody.xml'\n",
    "\n",
    "car_algo=cv2.CascadeClassifier(car_classifier_file)\n",
    "pedestrain_algo=cv2.CascadeClassifier(pedestrain_classifier_file)\n",
    "while True:\n",
    "    successful_read,frame=video_file.read()\n",
    "    \n",
    "    if successful_read:\n",
    "        gray_img=cv2.cvtColor(frame,cv2.COLOR_BGR2GRAY )\n",
    "    else:\n",
    "        break\n",
    "        \n",
    "    cars=car_algo.detectMultiScale(gray_img)\n",
    "    pedestrains=pedestrain_algo.detectMultiScale(gray_img)\n",
    "\n",
    "    for (a,b,c,d) in cars:\n",
    "        cv2.rectangle(frame,(a,b),(a+c,b+d),(0,256,0),5)\n",
    "    for (a,b,c,d) in pedestrains:\n",
    "        cv2.rectangle(frame,(a,b),(a+c,b+d),(0,0,256),5)\n",
    "\n",
    "    cv2.imshow(\"Car and pedestrain image detector\",frame)\n",
    "    key=cv2.waitKey(1)\n",
    "    \n",
    "    if key==113 or key==81:\n",
    "        break\n",
    "\n",
    "video_file.release()\n",
    "print(\"Code Compeleted\")"
   ]
  },
  {
   "cell_type": "code",
   "execution_count": null,
   "metadata": {},
   "outputs": [],
   "source": []
  }
 ],
 "metadata": {
  "kernelspec": {
   "display_name": "Python 3",
   "language": "python",
   "name": "python3"
  },
  "language_info": {
   "codemirror_mode": {
    "name": "ipython",
    "version": 3
   },
   "file_extension": ".py",
   "mimetype": "text/x-python",
   "name": "python",
   "nbconvert_exporter": "python",
   "pygments_lexer": "ipython3",
   "version": "3.8.5"
  }
 },
 "nbformat": 4,
 "nbformat_minor": 4
}
